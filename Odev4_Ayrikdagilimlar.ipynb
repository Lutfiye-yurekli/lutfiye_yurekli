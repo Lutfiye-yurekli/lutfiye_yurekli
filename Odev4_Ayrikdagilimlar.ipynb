{
  "nbformat": 4,
  "nbformat_minor": 0,
  "metadata": {
    "colab": {
      "name": "Odev4_Ayrikdagilimlar.ipynb",
      "provenance": [],
      "collapsed_sections": [],
      "authorship_tag": "ABX9TyM0XmPqCV1jT1VbgDKHC9bS",
      "include_colab_link": true
    },
    "kernelspec": {
      "name": "python3",
      "display_name": "Python 3"
    }
  },
  "cells": [
    {
      "cell_type": "markdown",
      "metadata": {
        "id": "view-in-github",
        "colab_type": "text"
      },
      "source": [
        "<a href=\"https://colab.research.google.com/github/Lutfiye-yurekli/lutfiye_yurekli/blob/master/Odev4_Ayrikdagilimlar.ipynb\" target=\"_parent\"><img src=\"https://colab.research.google.com/assets/colab-badge.svg\" alt=\"Open In Colab\"/></a>"
      ]
    },
    {
      "cell_type": "markdown",
      "metadata": {
        "id": "hcpat8heMdL4",
        "colab_type": "text"
      },
      "source": [
        " **Ödev 4: Ayrık Dağılımlar** \n",
        "\n",
        "**Ad-Soyad-No:** Lütfiye Büşra YÜREKLİ- 195103005\n",
        "\n",
        "**Binomial Dağılımı**\n",
        "\n",
        "Bernoulli deneyinin birbirini izleyen n bağımsız denemelerindeki başarı sayısını temsil eden rasgele değişkendir.\n",
        "\n",
        "        n:deneme sayısı\n",
        "        p: başarı olasılığı\n",
        "        P(X = k) = C(n,k)*(p^k)*[(1-p)^(n-k)],k = 0,1, … , n\n",
        "    \n",
        "**Örnek:**  Bir elektrik parçanın şok testine dayanma olasılığı 3/4‘tür.\n",
        "Denenen 10 parçadan 7 tanesinin bu teste dayanma olasılığını bulunuz.\n",
        "\n",
        "**Çözüm:** \n",
        "\n",
        "           n= 10 , p=0.75\n",
        "           P(7) = C(10,7)*(0.75^7)*[(1-0.75)^(10-7)]\n",
        "           P(7)= 0.25\n",
        "\n",
        "**Python kodu:**"
      ]
    },
    {
      "cell_type": "code",
      "metadata": {
        "id": "d2Vv0RBzARzu",
        "colab_type": "code",
        "outputId": "e3c2e122-fc85-4478-e487-641ab7278a91",
        "colab": {
          "base_uri": "https://localhost:8080/",
          "height": 34
        }
      },
      "source": [
        "from pylab import*\n",
        "import numpy as np\n",
        "import math\n",
        "\n",
        "#kombinasyon hesabı için fonksiyon\n",
        "def kombinasyon(m,r):\n",
        "  C=0\n",
        "  if r>m:\n",
        "    P=1\n",
        "  else:\n",
        "    C= math.factorial(m)/(math.factorial(m-r)*math.factorial(r))\n",
        "  return C\n",
        "\n",
        "\n",
        "#Binomial dağılım\n",
        "def binom(n,k,p):\n",
        "    B= kombinasyon(n,k)*(p**k)*(1-p)**(n-k)\n",
        "    return B\n",
        "#denenen parça sayısı\n",
        "n=10\n",
        "#deneme olasılığı\n",
        "p=0.75\n",
        "#istenen parça sayısı\n",
        "k=7\n",
        "print(\"7 parçanın teste dayanma olasılığı\",binom(n,k,p))\n",
        "\n",
        "\n",
        "\n",
        "\n"
      ],
      "execution_count": 15,
      "outputs": [
        {
          "output_type": "stream",
          "text": [
            "7 parçanın teste dayanma olasılığı 0.25028228759765625\n"
          ],
          "name": "stdout"
        }
      ]
    },
    {
      "cell_type": "markdown",
      "metadata": {
        "id": "O47HCVivXYgV",
        "colab_type": "text"
      },
      "source": [
        "**Poisson Dağılımı**\n",
        "\n",
        "Binomial Dağılımı; yeterince büyük n(örnek Uzay), yeterince küçük p(olasılık) olduğunda λ=n*p kabulu yapılırsa poisson dağılımı şeklinde adlandırılır. \n",
        "\n",
        "        P(X=k)= [(λ^k)/k!]e^(-λ)\n",
        "\n",
        "**Örnek:**  Toplumda yaşayan insanların kalıtsal hastalık taşıma olasılığı 1/8000' dir. 30000 nüfuslu yerleşim yerinde hastalık taşıyan 5 kişi olma olasığı nedir?\n",
        "\n",
        "**Çözüm:** \n",
        "\n",
        "      λ=n*p -> λ= 30000 * (1/8000) = 3.75\n",
        "      P(X=k)= [(λ^k)/k!]*e^(-λ)\n",
        "      P(5) = [(3.75^ 5) / 5!] * e^(-3.75)\n",
        "      P(5)= 0.1453\n",
        "    \n",
        "**Python Kodu:**"
      ]
    },
    {
      "cell_type": "code",
      "metadata": {
        "id": "BJbKGG_eXiUr",
        "colab_type": "code",
        "outputId": "f8f90cdf-19af-47b2-9e96-037354ff5b63",
        "colab": {
          "base_uri": "https://localhost:8080/",
          "height": 34
        }
      },
      "source": [
        "\n",
        " # Poisson dağılımı\n",
        "def poisson(n,p,k):\n",
        "  Lambda= n*p\n",
        "  P= ((Lambda**k)/math.factorial(k))*exp(-Lambda)\n",
        "  return P\n",
        "#toplam nüfus\n",
        "n= 30000\n",
        "#kalıtsl hastalık taşıma olasılığı\n",
        "p= 1/8000\n",
        "#istenen kişi sayı\n",
        "k=5\n",
        "print(\"5 kişinin hastalık taşıma olasılığı\",poisson(n,p,k))"
      ],
      "execution_count": 11,
      "outputs": [
        {
          "output_type": "stream",
          "text": [
            "5 kişinin hastalık taşıma olasılığı 0.1453351909131422\n"
          ],
          "name": "stdout"
        }
      ]
    }
  ]
}