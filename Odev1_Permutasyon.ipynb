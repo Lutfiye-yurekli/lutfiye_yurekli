{
  "nbformat": 4,
  "nbformat_minor": 0,
  "metadata": {
    "colab": {
      "name": "Odev1_Permutasyon.ipynb",
      "provenance": [],
      "authorship_tag": "ABX9TyNtAF2XGkmF47X/BSxspaTl",
      "include_colab_link": true
    },
    "kernelspec": {
      "name": "python3",
      "display_name": "Python 3"
    }
  },
  "cells": [
    {
      "cell_type": "markdown",
      "metadata": {
        "id": "view-in-github",
        "colab_type": "text"
      },
      "source": [
        "<a href=\"https://colab.research.google.com/github/Lutfiye-yurekli/lutfiye_yurekli/blob/master/Odev1_Permutasyon.ipynb\" target=\"_parent\"><img src=\"https://colab.research.google.com/assets/colab-badge.svg\" alt=\"Open In Colab\"/></a>"
      ]
    },
    {
      "cell_type": "markdown",
      "metadata": {
        "id": "FXEzDq2pKLqc",
        "colab_type": "text"
      },
      "source": [
        "\n",
        "**Ödev:** Herhangi bir permütasyon örneğini pyhton kullanarak colab ortamında kodlayarak raporu oluşturulacak.\n",
        "\n",
        "**Ad-Soyad / Numara :** Lütfiye Büşra YÜREKLİ / 195103005\n",
        "\n",
        "**PERMUTASYON**\n",
        "\n",
        "n elemanlı bir A kümesinin birbirinden farklı r elemanının her bir sıralanışına A kümesinin r'li permutasyonu denir.\n",
        "\n",
        "#          P(n,r) = n! / (n-r)!  \n",
        "  formülü ile hesaplanır.\n",
        "\n",
        "**Örnek:** 8 Kişilik bir satranç kulübünde satranç turnuvası için 2 kişi seçilecektir. Kaç farklı şekilde sıralama yapılabilir?\n",
        "\n",
        "**Çözüm:**  P(8,2) = 8! / (8-2)!\n",
        "\n",
        "            P(8,2) = 56 farklı sıralama yapılabilir.\n",
        "          "
      ]
    },
    {
      "cell_type": "code",
      "metadata": {
        "id": "3lqTzgyH_2FE",
        "colab_type": "code",
        "colab": {}
      },
      "source": [
        "#Örneğin Çözümü\n",
        "from pylab import*\n",
        "import numpy as np\n",
        "#Faktöriyel hesabı için fonksiyon\n",
        "def faktoriyel(x):\n",
        "  sonuc=1\n",
        "  for i in range(x):\n",
        "    sonuc=sonuc*(i+1)\n",
        "  return sonuc\n",
        "\n",
        "#Permutasyon hesabı için fonksiyon\n",
        "def permutasyon(n,r):\n",
        "  P=0\n",
        "  if r>n:\n",
        "    P=1\n",
        "  else:\n",
        "    P= faktoriyel(n)/faktoriyel(n-r)\n",
        "  return P\n",
        "#satranç kulübündeki kişi sayısı\n",
        "num1= 8\n",
        "#satranç turnuvası için seçilecek kişi sayısı\n",
        "num2= 2\n",
        "\n",
        "print(\"nsonuc:\",permutasyon(num1,num2))\n",
        "\n",
        "\n",
        "\n",
        "\n",
        "\n",
        "\n",
        "\n"
      ],
      "execution_count": 0,
      "outputs": []
    }
  ]
}