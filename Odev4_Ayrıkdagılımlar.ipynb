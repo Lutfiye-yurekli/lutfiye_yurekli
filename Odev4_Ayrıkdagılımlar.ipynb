{
  "nbformat": 4,
  "nbformat_minor": 0,
  "metadata": {
    "colab": {
      "name": "Odev4_Ayrıkdagılımlar.ipynb",
      "provenance": [],
      "collapsed_sections": [],
      "authorship_tag": "ABX9TyNSf53T2OSsw8aPRgJjIirx",
      "include_colab_link": true
    },
    "kernelspec": {
      "name": "python3",
      "display_name": "Python 3"
    }
  },
  "cells": [
    {
      "cell_type": "markdown",
      "metadata": {
        "id": "view-in-github",
        "colab_type": "text"
      },
      "source": [
        "<a href=\"https://colab.research.google.com/github/Lutfiye-yurekli/lutfiye_yurekli/blob/master/Odev4_Ayr%C4%B1kdag%C4%B1l%C4%B1mlar.ipynb\" target=\"_parent\"><img src=\"https://colab.research.google.com/assets/colab-badge.svg\" alt=\"Open In Colab\"/></a>"
      ]
    },
    {
      "cell_type": "markdown",
      "metadata": {
        "id": "hcpat8heMdL4",
        "colab_type": "text"
      },
      "source": [
        " **Ödev 4: Ayrık Dağılımlar** \n",
        "\n",
        "**Ad-Soyad-No:** Lütfiye Büşra YÜREKLİ- 195103005\n",
        "\n",
        "**Binomial Dağılımı**\n",
        "\n",
        "Bernoulli deneyinin birbirini izleyen n bağımsız denemelerindeki başarı sayısını temsil eden rasgele değişkendir.\n",
        "\n",
        "        n:deneme sayısı\n",
        "        p: başarı olasılığı\n",
        "        P(X = k) = C(n,k)*(p^k)*[(1-p)^(n-k)],k = 0,1, … , n\n",
        "    \n",
        "**Örnek:**  Belli bir ameliyatın başarılı olma olasığı 0.8'dir. Ameliyat edilen 10 hastadan 6 iyileşmesi olasılı nedir?\n",
        "\n",
        "**Çözüm:** \n",
        "\n",
        "           n= 10 , p=0.8\n",
        "           P(6) = C(10,6)*(0.8^6)*[(1-0.8)^(10-4)]\n",
        "           P(6)= 0.088\n",
        "\n",
        "**Python kodu:**"
      ]
    },
    {
      "cell_type": "code",
      "metadata": {
        "id": "d2Vv0RBzARzu",
        "colab_type": "code",
        "colab": {
          "base_uri": "https://localhost:8080/",
          "height": 34
        },
        "outputId": "f88a6b2f-82a3-49f1-b915-d1496ebfd8f9"
      },
      "source": [
        "from pylab import*\n",
        "import numpy as np\n",
        "import math\n",
        "\n",
        "#kombinasyon hesabı için fonksiyon\n",
        "def kombinasyon(m,r):\n",
        "  C=0\n",
        "  if r>m:\n",
        "    P=1\n",
        "  else:\n",
        "    C= math.factorial(m)/(math.factorial(m-r)*math.factorial(r))\n",
        "  return C\n",
        "\n",
        "\n",
        "#Binomial dağılım\n",
        "def binom(n,k,p):\n",
        "    B= kombinasyon(n,k)*(p**k)*(1-p)**(n-k)\n",
        "    return B\n",
        "#deneme sayısı\n",
        "n=10\n",
        "#Olasılık\n",
        "p=0.8\n",
        "#istenen sayı\n",
        "k=6\n",
        "print(\"nsonuc:\",binom(n,k,p))\n",
        "\n",
        "\n",
        "\n",
        "\n"
      ],
      "execution_count": 26,
      "outputs": [
        {
          "output_type": "stream",
          "text": [
            "nsonuc: 0.08808038399999996\n"
          ],
          "name": "stdout"
        }
      ]
    },
    {
      "cell_type": "markdown",
      "metadata": {
        "id": "O47HCVivXYgV",
        "colab_type": "text"
      },
      "source": [
        "**Poisson Dağılımı**\n",
        "\n",
        "Binomial Dağılımı; yeterince büyük n(örnek Uzay), yeterince küçük p(olasılık) olduğunda λ=n*p kabulu yapılırsa poisson dağılımı şeklinde adlandırılır. \n",
        "\n",
        "        P(X=k)= [(λ^k)/k!]e^(-λ)\n",
        "\n",
        "**Örnek:**  Toplumda yaşayan insanların kalıtsal hastalık taşıma olasılığı 1/8000' dir. 30000 nüfuslu yerleşim yerinde hastalık taşıyan 5 kişi olma olasığı nedir?\n",
        "\n",
        "**Çözüm:** \n",
        "\n",
        "      λ=n*p -> λ= 30000 * (1/8000) = 3.75\n",
        "      P(X=k)= [(λ^k)/k!]*e^(-λ)\n",
        "      P(5) = [(3.75^ 5) / 5!] * e^(-3.75)\n",
        "      P(5)= 0.1453\n",
        "    \n",
        "**Python Kodu:**"
      ]
    },
    {
      "cell_type": "code",
      "metadata": {
        "id": "BJbKGG_eXiUr",
        "colab_type": "code",
        "colab": {
          "base_uri": "https://localhost:8080/",
          "height": 34
        },
        "outputId": "dda07113-754b-4c22-8609-2f8dadb65b40"
      },
      "source": [
        "\n",
        " # Poisson dağılımı\n",
        "def poisson(n,p,k):\n",
        "  Lambda= n*p\n",
        "  P= ((Lambda**k)/math.factorial(k))*exp(-Lambda)\n",
        "  return P\n",
        "#deneme sayısı\n",
        "n= 30000\n",
        "#olasılık\n",
        "p= 1/8000\n",
        "#istenen sayı\n",
        "k=5\n",
        "print(\"nsonuc:\",poisson(n,p,k))"
      ],
      "execution_count": 30,
      "outputs": [
        {
          "output_type": "stream",
          "text": [
            "nsonuc: 0.1453351909131422\n"
          ],
          "name": "stdout"
        }
      ]
    }
  ]
}