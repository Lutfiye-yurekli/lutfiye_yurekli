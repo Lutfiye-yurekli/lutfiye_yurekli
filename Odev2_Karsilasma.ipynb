{
  "nbformat": 4,
  "nbformat_minor": 0,
  "metadata": {
    "colab": {
      "name": "Odev2_Karsilasma.ipynb",
      "provenance": [],
      "collapsed_sections": [],
      "authorship_tag": "ABX9TyORWWlrP2sLgMwyM7wr6NVx",
      "include_colab_link": true
    },
    "kernelspec": {
      "name": "python3",
      "display_name": "Python 3"
    }
  },
  "cells": [
    {
      "cell_type": "markdown",
      "metadata": {
        "id": "view-in-github",
        "colab_type": "text"
      },
      "source": [
        "<a href=\"https://colab.research.google.com/github/Lutfiye-yurekli/lutfiye_yurekli/blob/master/Odev2_Karsilasma.ipynb\" target=\"_parent\"><img src=\"https://colab.research.google.com/assets/colab-badge.svg\" alt=\"Open In Colab\"/></a>"
      ]
    },
    {
      "cell_type": "code",
      "metadata": {
        "id": "LTjE5syIHKU1",
        "colab_type": "code",
        "colab": {}
      },
      "source": [
        ""
      ],
      "execution_count": 0,
      "outputs": []
    },
    {
      "cell_type": "markdown",
      "metadata": {
        "id": "S5k9XIC2HL-l",
        "colab_type": "text"
      },
      "source": [
        "**ÖDEV 2: KARŞILAŞMA OlASILIĞI**\n",
        "\n",
        "\n",
        "\n",
        "**AD-SOYAD/No:** Lütfiye Büşra YÜREKLİ/195103005\n",
        "\n",
        "**ÖRNEK:** Bir öğretmen 20 erkek, 10 kız öğrencinin olduğu sınıfta bilgi yarışması için 5 öğrenci seçecektir. Seçilecek öğrencilerin içerisinde öğretmenin  en az bir kız öğrenci ile karşılaşma olasılığı nedir? \n",
        "\n",
        "**ÇÖZÜM:** \n",
        "\n",
        "          Her kişinin seçilme olasılığı eşit olursa\n",
        "          p: Toplam öğrenci sayısı = 30\n",
        "          s: Seçilen öğrenci sayısı = 5\n",
        "          f: Kız öğrenci sayısı = 10\n",
        "\n",
        "          S:(Örnek uzayı) toplam sınıf mevcudundan(30) öğrencilerin seçimi(5) seçimi = C(30,5)\n",
        "          Kız öğrenci olma olasılığı : Bir kız öğrenci olabilir, 2 kız öğrenci  olabilir ya da hepsi de kız öğrenci olabilir.\n",
        "          Bakılması gereken bir çok farklı durum ortaya çıkıyor. Bu sebeple seçilen öğrencilerin hepsinin erkek öğrenci olma olasılığı hesaplanıp \n",
        "          1'den cıkartıldığında en az bir öğrencinin kız öğrenci olma olasılığı bulunur.\n",
        "          Bu durumuda olay uzayı;\n",
        "          E:(Olay uzayı) Kız olmayan öğrenciler içerisinde(30-10) öğrencilerin seçimi = C(20,5)\n",
        "          P(E) = |E| / |S|\n",
        "          P = C(20,5) / C(30,5)\n",
        "          P = 0.10879 hepsinin erkek olma olasığı\n",
        "          1-P = 0.89121 içlerinden en az birinin kız öğrenci olma olasılığı\n"
      ]
    },
    {
      "cell_type": "code",
      "metadata": {
        "id": "4_hnRG-mKp7c",
        "colab_type": "code",
        "outputId": "5b8511b4-6dfc-4195-e4e9-6ca635347841",
        "colab": {
          "base_uri": "https://localhost:8080/",
          "height": 34
        }
      },
      "source": [
        "from pylab import*\n",
        "import numpy as np\n",
        "#Faktöriyel hesabı için fonksiyon\n",
        "def faktoriyel(x):\n",
        "  sonuc=1\n",
        "  for i in range(x):\n",
        "    sonuc=sonuc*(i+1)\n",
        "  return sonuc\n",
        "\n",
        "#kombinasyon hesabı için fonksiyon\n",
        "def kombinasyon(n,r):\n",
        "  C=0\n",
        "  C= faktoriyel(n)/(faktoriyel(n-r)*faktoriyel(r))\n",
        "  return C\n",
        "#toplam öğrenci sayısı\n",
        "p= 30\n",
        "#seçilen öğrenci sayısı\n",
        "s= 5\n",
        "#kız öğrenci sayısı\n",
        "f= 10\n",
        "print(\"Seçilen öğrencilerden en az birinin kız öğrenci olma olasılığı:\",1-(kombinasyon((p-f),s)/kombinasyon(p,s)))\n",
        "\n",
        "\n"
      ],
      "execution_count": 3,
      "outputs": [
        {
          "output_type": "stream",
          "text": [
            "Seçilen öğrencilerden en az birinin kız öğrenci olma olasılığı: 0.8912045808597533\n"
          ],
          "name": "stdout"
        }
      ]
    }
  ]
}