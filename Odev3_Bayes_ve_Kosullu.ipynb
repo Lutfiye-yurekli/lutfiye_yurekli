{
  "nbformat": 4,
  "nbformat_minor": 0,
  "metadata": {
    "colab": {
      "name": "Odev3_Bayes_ve_Kosullu.ipynb",
      "provenance": [],
      "collapsed_sections": [],
      "authorship_tag": "ABX9TyPONYna1SpE0mq6LbBvW29S",
      "include_colab_link": true
    },
    "kernelspec": {
      "name": "python3",
      "display_name": "Python 3"
    }
  },
  "cells": [
    {
      "cell_type": "markdown",
      "metadata": {
        "id": "view-in-github",
        "colab_type": "text"
      },
      "source": [
        "<a href=\"https://colab.research.google.com/github/Lutfiye-yurekli/lutfiye_yurekli/blob/master/Odev3_Bayes_ve_Kosullu.ipynb\" target=\"_parent\"><img src=\"https://colab.research.google.com/assets/colab-badge.svg\" alt=\"Open In Colab\"/></a>"
      ]
    },
    {
      "cell_type": "code",
      "metadata": {
        "id": "RM_eXGrPRcAJ",
        "colab_type": "code",
        "colab": {}
      },
      "source": [
        ""
      ],
      "execution_count": 0,
      "outputs": []
    },
    {
      "cell_type": "markdown",
      "metadata": {
        "id": "O4lhkIIqRdV3",
        "colab_type": "text"
      },
      "source": [
        " **ÖDEV 3: KOŞULLU OLASILIK ve BAYES TEOREMİ**\n",
        "\n",
        " **Ad-Soyad/No:** Lütfiye Büşra YÜREKLİ / 195103005\n",
        "\n",
        " \n",
        " \n",
        " **Örnek:** Cıvata üretilen bir fabrikada toplam üretimin %30’u A, %30’u B, %40’ı C makineleri tarafından yapılmaktadır. Bu makinelerin sırasıyla üretimlerinin %1’i, %3’ü ve %2’si kusurlu civatalardır. Bir günlük üretim sonunda bir cıvata seçiliyor ve kusurlu olduğu görülüyor. Bu civatanın A makinesinde üretilmiş olması olasılığı nedir?\n",
        "\n",
        "**Çözüm**: \n",
        "\n",
        "               E: Kusurlu cıvata\n",
        "               A: Cıvata A makinesi\n",
        "               B: Cıvata B makinesi\n",
        "               C: Cıvata C makinesi\n",
        "               O halde,\n",
        "               Üretim oranı     kusurlu üretim oranı\n",
        "               P(A)=0.30,       P(E/A)=0.01\n",
        "               P(B)=0.30,       P(E/B)=0.03\n",
        "               P(C)=0.40,       P(E/C)=0.02 \n",
        "               \n",
        "               A makinasında kusurlu üretim\n",
        "               P(A∩E)=P(A).P(E/A)=(0.30).(0.01)=0.003 \n",
        "\n",
        "               B makinasında kusurlu üretim\n",
        "               P(B∩E)=P(B).P(E/B)=(0.30).(0.03)=0.009 \n",
        "\n",
        "               C makinasında kusurlu üretim\n",
        "               P(C∩E)=P(C).P(E/C)=(0.40).(0.02)=0.008 \n",
        "\n",
        "        Bayes teoremini kullanarak P(A/E) olasılığı aşağıdaki gibi bulunur.\n",
        "               P(A/E)=P(A∩E)/(P(A∩E)+P(B∩E)+P(C∩E))\n",
        "                     =0.003/(0.003+0.009+0.008)\n",
        "                     =3/20 = 0.15"
      ]
    },
    {
      "cell_type": "code",
      "metadata": {
        "id": "67w1CX5fXzlH",
        "colab_type": "code",
        "outputId": "9092975f-ad65-444e-b15b-9b3e76556a9e",
        "colab": {
          "base_uri": "https://localhost:8080/",
          "height": 34
        }
      },
      "source": [
        "from pylab import*\n",
        "import numpy as np\n",
        "def bayes (PA, PB, PC, PE_A, PE_B, PE_C):\n",
        "    #A makinasındaa kusurlu üretim\n",
        "    P_AnE = PA * PE_A \n",
        "    #A makinasında kusurlu üretim\n",
        "    P_BnE = PB * PE_B\n",
        "    #A makinasında kusurlu üretim\n",
        "    P_CnE = PC * PE_C\n",
        "    \n",
        "    #Kusurlu olduğu bilindiğine göre A'da olma olasılığı\n",
        "    PA_E = P_AnE / (P_AnE + P_BnE + P_CnE)\n",
        "\n",
        "    return PA_E\n",
        "# A makinasında üretim oranı\n",
        "PA= 0.3\n",
        "# B makinasında üretim oranı\n",
        "PB= 0.3\n",
        "# C makinasında üretim oranı\n",
        "PC= 0.4\n",
        "\n",
        "#A makinasındaki kusurlu üretim oranı\n",
        "PE_A= 0.01\n",
        "#B makinasındaki kusurlu üretim oranı\n",
        "PE_B= 0.03\n",
        "#C makinasındaki kusurlu üretim oranı\n",
        "PE_C= 0.02\n",
        "\n",
        "print('kusurlu üretimin A makinasından olma olasılığı',bayes (PA,PB,PC,PE_A,PE_B,PE_C))\n",
        "\n"
      ],
      "execution_count": 2,
      "outputs": [
        {
          "output_type": "stream",
          "text": [
            "kusurlu üretimin A makinasından olma olasılığı 0.15\n"
          ],
          "name": "stdout"
        }
      ]
    }
  ]
}