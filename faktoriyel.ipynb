{
  "nbformat": 4,
  "nbformat_minor": 0,
  "metadata": {
    "colab": {
      "name": "Untitled1.ipynb",
      "provenance": [],
      "authorship_tag": "ABX9TyOBXZCz9eJzaZX7rZi/LpYN",
      "include_colab_link": true
    },
    "kernelspec": {
      "name": "python3",
      "display_name": "Python 3"
    }
  },
  "cells": [
    {
      "cell_type": "markdown",
      "metadata": {
        "id": "view-in-github",
        "colab_type": "text"
      },
      "source": [
        "<a href=\"https://colab.research.google.com/github/Lutfiye-yurekli/lutfiye_yurekli/blob/master/faktoriyel.ipynb\" target=\"_parent\"><img src=\"https://colab.research.google.com/assets/colab-badge.svg\" alt=\"Open In Colab\"/></a>"
      ]
    },
    {
      "cell_type": "code",
      "metadata": {
        "id": "0O_kll8FEC-4",
        "colab_type": "code",
        "colab": {
          "base_uri": "https://localhost:8080/",
          "height": 51
        },
        "outputId": "046c43ed-f921-4178-b9aa-4a4353d55903"
      },
      "source": [
        "import numpy as np\n",
        "sayi = int(input(\"Faktöriyelini Hesaplamak için sayı giriniz:\"))\n",
        "deger = 1\n",
        "for i in range(sayi):\n",
        "    deger = deger * (i+1)\n",
        " \n",
        "print(\"Faktoriyel : \", deger)"
      ],
      "execution_count": 2,
      "outputs": [
        {
          "output_type": "stream",
          "text": [
            "Faktöriyelini Hesaplamak için sayı giriniz:5\n",
            "Faktoriyel :  120\n"
          ],
          "name": "stdout"
        }
      ]
    }
  ]
}